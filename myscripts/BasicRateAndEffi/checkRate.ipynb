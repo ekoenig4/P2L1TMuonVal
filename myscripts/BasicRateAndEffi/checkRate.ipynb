{
 "cells": [
  {
   "cell_type": "code",
   "execution_count": 1,
   "metadata": {},
   "outputs": [],
   "source": [
    "#!/usr/bin/env python3\n",
    "###############################################################\n",
    "# Script to compute rates like the menu team did in 2022 \n",
    "# Directly over the tree: tree.GetEntries( SELECTION STRING )\n",
    "###############################################################\n",
    "\n",
    "import uproot as ut\n",
    "import numpy as np\n",
    "import awkward as ak\n",
    "from tqdm import tqdm\n",
    "import math \n",
    "\n",
    "filename = \"MB_GMTIso_ID\"\n",
    "myfilepath='/uscms_data/d3/ekoenig/Trigger/Phase2/CMSSW_12_5_2_patch1/src/L1Trigger/P2L1TMuonVal/data/trigger/'"
   ]
  },
  {
   "cell_type": "code",
   "execution_count": 2,
   "metadata": {},
   "outputs": [],
   "source": [
    "# f = ut.open(filename + myfilepath + '.root')\n",
    "tree = ut.lazy(f'{myfilepath}{filename}.root:gmtTkMuonChecksTree/L1PhaseIITree')\n",
    "entries = len(tree)"
   ]
  },
  {
   "cell_type": "code",
   "execution_count": 3,
   "metadata": {},
   "outputs": [],
   "source": [
    "totalrate=31038.0 \n",
    "# To normalize to total rate at 200:\n",
    "# 2760.0*11246/1000 = 31038\n",
    "\n",
    "# Define the additional ID cuts you want to apply:\n",
    "# (ID=\"\" for no special selection)\n",
    "\n",
    "# Example: Medium Hw Isolation:\n",
    "ID=\"&& gmtTkMuonIso[]>=8\"\n",
    "IDLabel=\"EXAMPLE_HWISOMR\"\n",
    "\n",
    "eventNo=0"
   ]
  },
  {
   "cell_type": "code",
   "execution_count": 4,
   "metadata": {},
   "outputs": [
    {
     "name": "stdout",
     "output_type": "stream",
     "text": [
      "Printing rates!\n",
      "====================\n",
      "Bin  Threshold  Rate\n"
     ]
    }
   ],
   "source": [
    "# Loop over thresholds \n",
    "step=(100.-0)/50 # step size\n",
    "print ('Printing rates!')\n",
    "print ('====================') \n",
    "print ('Bin  Threshold  Rate')"
   ]
  },
  {
   "cell_type": "code",
   "execution_count": 5,
   "metadata": {},
   "outputs": [],
   "source": [
    "i = 0"
   ]
  },
  {
   "cell_type": "code",
   "execution_count": null,
   "metadata": {},
   "outputs": [],
   "source": []
  },
  {
   "cell_type": "code",
   "execution_count": null,
   "metadata": {},
   "outputs": [],
   "source": []
  },
  {
   "cell_type": "code",
   "execution_count": 6,
   "metadata": {},
   "outputs": [
    {
     "name": "stdout",
     "output_type": "stream",
     "text": [
      "Welcome to JupyROOT 6.26/10\n"
     ]
    }
   ],
   "source": [
    "from ROOT import TH1F, kBlack\n",
    "\n",
    "class RateProducer:\n",
    "    def __init__(self, **kwargs):\n",
    "        self.rates = []\n",
    "        self.__dict__.update(**kwargs)\n",
    "    \n",
    "    def produce(self, i):\n",
    "        raise NotImplementedError('you should implement this')\n",
    "\n",
    "    def formatHisto(self, name,title,bins=50,start=0,end=100, color=kBlack):\n",
    "        histo = TH1F(name,title,bins,start,end)\n",
    "        histo.SetLineColor(color)\n",
    "        histo.SetMarkerColor(color)\n",
    "        histo.SetMarkerStyle(20)\n",
    "        histo.Sumw2()\n",
    "\n",
    "        for i, rate in enumerate(self.rates):\n",
    "            histo.SetBinContent(i, rate)\n",
    "        self.histo = histo\n"
   ]
  },
  {
   "cell_type": "code",
   "execution_count": 7,
   "metadata": {},
   "outputs": [],
   "source": [
    "class RateGMTTkMuonBarrel(RateProducer):\n",
    "    def produce(self, i):\n",
    "        onlinecut = ak.sum((tree[\"gmtTkMuonPt\"] > i*step) \\\n",
    "                        & (tree[\"gmtTkMuonBx\"] == 0) \\\n",
    "                        & (np.abs(tree[\"gmtTkMuonEta\"])<0.83) \\\n",
    "                        & (tree[\"gmtTkMuonIso\"]>=8), axis=-1)>0\n",
    "        checkRate = ak.sum(onlinecut)*totalrate/entries\n",
    "        self.rates.append(checkRate)\n",
    "rateGMTTkMuonBarrel = RateGMTTkMuonBarrel()"
   ]
  },
  {
   "cell_type": "code",
   "execution_count": 8,
   "metadata": {},
   "outputs": [],
   "source": [
    "class RateGMTTkMuonEndcap(RateProducer):\n",
    "    def produce(self, i):\n",
    "        onlinecut = ak.sum((tree[\"gmtTkMuonPt\"] > i*step) \\\n",
    "                        & (tree[\"gmtTkMuonBx\"] == 0) \\\n",
    "                        & (np.abs(tree[\"gmtTkMuonEta\"])>0.83) \\\n",
    "                        & (np.abs(tree[\"gmtTkMuonEta\"])<1.24) \\\n",
    "                        & (tree[\"gmtTkMuonIso\"]>=8), axis=-1)>0\n",
    "        checkRate = ak.sum(onlinecut)*totalrate/entries\n",
    "        self.rates.append(checkRate)\n",
    "rateGMTTkMuonEndcap = RateGMTTkMuonEndcap()"
   ]
  },
  {
   "cell_type": "code",
   "execution_count": 9,
   "metadata": {},
   "outputs": [],
   "source": [
    "class RateGMTTkMuonOverlap(RateProducer):\n",
    "    def produce(self, i):\n",
    "        onlinecut = ak.sum((tree[\"gmtTkMuonPt\"] > i*step) \\\n",
    "                        & (tree[\"gmtTkMuonBx\"] == 0) \\\n",
    "                        & (np.abs(tree[\"gmtTkMuonEta\"])>1.24) \\\n",
    "                        & (tree[\"gmtTkMuonIso\"]>=8), axis=-1)>0\n",
    "        checkRate = ak.sum(onlinecut)*totalrate/entries\n",
    "        self.rates.append(checkRate)\n",
    "rateGMTTkMuonOverlap = RateGMTTkMuonOverlap()"
   ]
  },
  {
   "cell_type": "code",
   "execution_count": 10,
   "metadata": {},
   "outputs": [],
   "source": [
    "class RateGMTTkMuonAll(RateProducer):\n",
    "    def produce(self, i):\n",
    "        onlinecut = ak.sum((tree[\"gmtTkMuonPt\"] > i*step) \\\n",
    "                        & (tree[\"gmtTkMuonBx\"] == 0) \\\n",
    "                        & (tree[\"gmtTkMuonIso\"]>=8), axis=-1)>0\n",
    "        checkRate = ak.sum(onlinecut)*totalrate/entries\n",
    "        self.rates.append(checkRate)\n",
    "rateGMTTkMuonAll = RateGMTTkMuonAll()"
   ]
  },
  {
   "cell_type": "code",
   "execution_count": 11,
   "metadata": {},
   "outputs": [
    {
     "name": "stderr",
     "output_type": "stream",
     "text": [
      "100%|██████████| 40/40 [01:20<00:00,  2.01s/it]\n"
     ]
    }
   ],
   "source": [
    "for i in tqdm(range(0, 40)): \n",
    "    rateGMTTkMuonBarrel.produce(i)\n",
    "    rateGMTTkMuonEndcap.produce(i)\n",
    "    rateGMTTkMuonOverlap.produce(i)\n",
    "    rateGMTTkMuonAll.produce(i)"
   ]
  },
  {
   "cell_type": "code",
   "execution_count": 12,
   "metadata": {},
   "outputs": [
    {
     "data": {
      "text/plain": [
       "True"
      ]
     },
     "execution_count": 12,
     "metadata": {},
     "output_type": "execute_result"
    }
   ],
   "source": [
    "from ROOT import TFile\n",
    "\n",
    "out = TFile(f\"my_rate_{filename}_{IDLabel}.root\",\"recreate\")\n",
    "out.cd()"
   ]
  },
  {
   "cell_type": "code",
   "execution_count": 13,
   "metadata": {},
   "outputs": [],
   "source": [
    "rateGMTTkMuonBarrel.formatHisto(\"rateGMTTkMuonBarrel\",\"Rate GMTTkMuon Barrel\")\n",
    "rateGMTTkMuonEndcap.formatHisto(\"rateGMTTkMuonEndcap\",\"Rate GMTTkMuon Endcap\")\n",
    "rateGMTTkMuonOverlap.formatHisto(\"rateGMTTkMuonOverlap\",\"Rate GMTTkMuon Overlap\")\n",
    "rateGMTTkMuonAll.formatHisto(\"rateGMTTkMuonAll\",\"Rate GMTTkMuon All\")"
   ]
  },
  {
   "cell_type": "code",
   "execution_count": 14,
   "metadata": {},
   "outputs": [
    {
     "data": {
      "text/plain": [
       "449"
      ]
     },
     "execution_count": 14,
     "metadata": {},
     "output_type": "execute_result"
    }
   ],
   "source": [
    "rateGMTTkMuonBarrel.histo.Write()\n",
    "rateGMTTkMuonEndcap.histo.Write()\n",
    "rateGMTTkMuonOverlap.histo.Write()\n",
    "rateGMTTkMuonAll.histo.Write()"
   ]
  },
  {
   "cell_type": "code",
   "execution_count": 15,
   "metadata": {},
   "outputs": [],
   "source": [
    "out.Close()"
   ]
  },
  {
   "cell_type": "code",
   "execution_count": null,
   "metadata": {},
   "outputs": [],
   "source": []
  }
 ],
 "metadata": {
  "kernelspec": {
   "display_name": "Python 3.9.15 ('phase2')",
   "language": "python",
   "name": "python3"
  },
  "language_info": {
   "codemirror_mode": {
    "name": "ipython",
    "version": 3
   },
   "file_extension": ".py",
   "mimetype": "text/x-python",
   "name": "python",
   "nbconvert_exporter": "python",
   "pygments_lexer": "ipython3",
   "version": "3.9.15"
  },
  "orig_nbformat": 4,
  "vscode": {
   "interpreter": {
    "hash": "6bfae6ae298da9dc1945fbaa6d759e9c74ffc49eb2783824a85a7fc554594016"
   }
  }
 },
 "nbformat": 4,
 "nbformat_minor": 2
}
