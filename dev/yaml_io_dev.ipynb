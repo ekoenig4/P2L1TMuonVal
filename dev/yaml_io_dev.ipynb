{
 "cells": [
  {
   "cell_type": "code",
   "execution_count": 4,
   "metadata": {},
   "outputs": [],
   "source": [
    "import yaml"
   ]
  },
  {
   "cell_type": "code",
   "execution_count": 5,
   "metadata": {},
   "outputs": [],
   "source": [
    "doc = \"\"\"\n",
    "argparse:\n",
    "    totalrate: 31038.0\n",
    "\n",
    "    ID: \"gmtTkMuonIso[]>=8\"\n",
    "    IDLabel: \"EXAMPLE_HWISOMR\"\n",
    "\n",
    "    file: \"MB_GMTIso_ID\"\n",
    "    filepath: \"/eos/user/c/cepeda/trigger/\"\n",
    "\n",
    "outfile: \"rate_{file}_{IDLabel}.root\"\n",
    "\n",
    "formatHisto:\n",
    "    bins: 50\n",
    "    start: 0\n",
    "    end: 100\n",
    "    color: kBlack\n",
    "\n",
    "rates:\n",
    "    rateGMTTkMuonBarrel:\n",
    "        title: \"Rate GMTTkMuon Barrel;GMT Track Muon Pt;Rate\"\n",
    "        onlinecut: [\"gmtTkMuonPt[]>{step}\", \"gmtTkMuonBx[]==0\", \"abs(gmtTkMuonEta[])<0.83\", \"{ID}\"]\n",
    "\n",
    "    rateGMTTkMuonEndcap:\n",
    "        title: \"Rate GMTTkMuon Endcap;GMT Track Muon Pt;Rate\"\n",
    "        onlinecut: [\"gmtTkMuonPt[]>{step}\", \"gmtTkMuonBx[]==0\", \"abs(gmtTkMuonEta[])>0.83\", \"abs(gmtTkMuonEta[])<1.24\", \"{ID}\"]\n",
    "\n",
    "    rateGMTTkMuonOverlap:\n",
    "        title: \"Rate GMTTkMuon Overlap;GMT Track Muon Pt;Rate\"\n",
    "        onlinecut: [\"gmtTkMuonPt[]>{step}\", \"gmtTkMuonBx[]==0\", \"abs(gmtTkMuonEta[])>1.24\", \"{ID}\"]\n",
    "\"\"\""
   ]
  },
  {
   "cell_type": "code",
   "execution_count": 6,
   "metadata": {},
   "outputs": [],
   "source": [
    "cfg = yaml.safe_load(doc)"
   ]
  },
  {
   "cell_type": "code",
   "execution_count": 7,
   "metadata": {},
   "outputs": [
    {
     "data": {
      "text/plain": [
       "{'argparse': {'totalrate': 31038.0,\n",
       "  'ID': 'gmtTkMuonIso[]>=8',\n",
       "  'IDLabel': 'EXAMPLE_HWISOMR',\n",
       "  'file': 'MB_GMTIso_ID',\n",
       "  'filepath': '/eos/user/c/cepeda/trigger/'},\n",
       " 'outfile': 'rate_{file}_{IDLabel}.root',\n",
       " 'formatHisto': {'bins': 50, 'start': 0, 'end': 100, 'color': 'kBlack'},\n",
       " 'rates': {'rateGMTTkMuonBarrel': {'title': 'Rate GMTTkMuon Barrel;GMT Track Muon Pt;Rate',\n",
       "   'onlinecut': ['gmtTkMuonPt[]>{step}',\n",
       "    'gmtTkMuonBx[]==0',\n",
       "    'abs(gmtTkMuonEta[])<0.83',\n",
       "    '{ID}']},\n",
       "  'rateGMTTkMuonEndcap': {'title': 'Rate GMTTkMuon Endcap;GMT Track Muon Pt;Rate',\n",
       "   'onlinecut': ['gmtTkMuonPt[]>{step}',\n",
       "    'gmtTkMuonBx[]==0',\n",
       "    'abs(gmtTkMuonEta[])>0.83',\n",
       "    'abs(gmtTkMuonEta[])<1.24',\n",
       "    '{ID}']},\n",
       "  'rateGMTTkMuonOverlap': {'title': 'Rate GMTTkMuon Overlap;GMT Track Muon Pt;Rate',\n",
       "   'onlinecut': ['gmtTkMuonPt[]>{step}',\n",
       "    'gmtTkMuonBx[]==0',\n",
       "    'abs(gmtTkMuonEta[])>1.24',\n",
       "    '{ID}']}}}"
      ]
     },
     "execution_count": 7,
     "metadata": {},
     "output_type": "execute_result"
    }
   ],
   "source": [
    "cfg"
   ]
  },
  {
   "cell_type": "code",
   "execution_count": 55,
   "metadata": {},
   "outputs": [],
   "source": [
    "from argparse import ArgumentParser"
   ]
  },
  {
   "cell_type": "code",
   "execution_count": 56,
   "metadata": {},
   "outputs": [],
   "source": [
    "parser = ArgumentParser()\n",
    "\n",
    "for key, value in cfg['argparse'].items():\n",
    "    opt = key.replace('_','-')\n",
    "    parser.add_argument(f'--{opt}', default=value, type=type(value), help=f'Default = {value}')"
   ]
  },
  {
   "cell_type": "code",
   "execution_count": 57,
   "metadata": {},
   "outputs": [
    {
     "name": "stdout",
     "output_type": "stream",
     "text": [
      "usage: ipykernel_launcher.py [-h] [--totalrate TOTALRATE] [--ID ID]\n",
      "                             [--IDLabel IDLABEL] [--file FILE]\n",
      "                             [--filepath FILEPATH]\n",
      "\n",
      "optional arguments:\n",
      "  -h, --help            show this help message and exit\n",
      "  --totalrate TOTALRATE\n",
      "                        Default = 31038.0\n",
      "  --ID ID               Default = gmtTkMuonIso[]>=8\n",
      "  --IDLabel IDLABEL     Default = EXAMPLE_HWISOMR\n",
      "  --file FILE           Default = MB_GMTIso_ID\n",
      "  --filepath FILEPATH   Default = /eos/user/c/cepeda/trigger/\n"
     ]
    }
   ],
   "source": [
    "parser.print_help()"
   ]
  },
  {
   "cell_type": "code",
   "execution_count": null,
   "metadata": {},
   "outputs": [],
   "source": []
  }
 ],
 "metadata": {
  "interpreter": {
   "hash": "ae87d2bc91eff133505aff786d7903e5f7f1a5ccfa07cce1c9e198d4a5e9364b"
  },
  "kernelspec": {
   "display_name": "Python 3.9.6",
   "language": "python",
   "name": "python3"
  },
  "language_info": {
   "codemirror_mode": {
    "name": "ipython",
    "version": 3
   },
   "file_extension": ".py",
   "mimetype": "text/x-python",
   "name": "python",
   "nbconvert_exporter": "python",
   "pygments_lexer": "ipython3",
   "version": "3.9.15"
  },
  "orig_nbformat": 4
 },
 "nbformat": 4,
 "nbformat_minor": 2
}
