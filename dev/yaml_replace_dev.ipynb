{
 "cells": [
  {
   "cell_type": "code",
   "execution_count": 32,
   "metadata": {},
   "outputs": [],
   "source": [
    "import sys, git\n",
    "sys.path.append( git.Repo('.', search_parent_directories=True).working_tree_dir )\n",
    "from myscripts.phase2_utils.yaml_cfg import Config"
   ]
  },
  {
   "cell_type": "code",
   "execution_count": 35,
   "metadata": {},
   "outputs": [],
   "source": [
    "doc = \"\"\"\n",
    "argparse:\n",
    "    totalrate: 31038.0\n",
    "\n",
    "    ID: \"gmtTkMuonIso[]>=8\"\n",
    "    IDLabel: \"EXAMPLE_HWISOMR\"\n",
    "\n",
    "    file: \"MB_GMTIso_ID\"\n",
    "    filepath: \"/eos/user/c/cepeda/trigger/\"\n",
    "\n",
    "outfile: \"rate_{file}_{IDLabel}.root\"\n",
    "\n",
    "formatHisto:\n",
    "    bins: 50\n",
    "    start: 0\n",
    "    end: 100\n",
    "    color: kBlack\n",
    "fmt_totalrate: \"{totalrate:0.2e}\"\n",
    "rates:\n",
    "    rateGMTTkMuonBarrel:\n",
    "        ID: \"testID==dumb\"\n",
    "        title: \"Rate GMTTkMuon Barrel;GMT Track Muon Pt;Rate\"\n",
    "        onlinecut: [\"gmtTkMuonPt[]>{step}\", \"gmtTkMuonBx[]==0\", \"abs(gmtTkMuonEta[])<0.83\", \"{ID}\"]\n",
    "\n",
    "    rateGMTTkMuonEndcap:\n",
    "        title: \"Rate GMTTkMuon Endcap;GMT Track Muon Pt;Rate\"\n",
    "        onlinecut: [\"gmtTkMuonPt[]>{step}\", \"gmtTkMuonBx[]==0\", \"abs(gmtTkMuonEta[])>0.83\", \"abs(gmtTkMuonEta[])<1.24\", \"{ID}\"]\n",
    "\n",
    "    rateGMTTkMuonOverlap:\n",
    "        title: \"Rate GMTTkMuon Overlap;GMT Track Muon Pt;Rate\"\n",
    "        onlinecut: [\"gmtTkMuonPt[]>{step}\", \"gmtTkMuonBx[]==0\", \"abs(gmtTkMuonEta[])>1.24\", \"{ID}\"]\n",
    "\"\"\""
   ]
  },
  {
   "cell_type": "code",
   "execution_count": 36,
   "metadata": {},
   "outputs": [],
   "source": [
    "cfg = Config.from_str(doc)"
   ]
  },
  {
   "cell_type": "code",
   "execution_count": 37,
   "metadata": {},
   "outputs": [],
   "source": [
    "import re"
   ]
  },
  {
   "cell_type": "code",
   "execution_count": 39,
   "metadata": {},
   "outputs": [
    {
     "data": {
      "text/plain": [
       "dict_keys(['_parser', 'outfile', 'formatHisto', 'fmt_totalrate', 'rates', 'totalrate', 'ID', 'IDLabel', 'file', 'filepath'])"
      ]
     },
     "execution_count": 39,
     "metadata": {},
     "output_type": "execute_result"
    }
   ],
   "source": [
    "vars(cfg).keys()"
   ]
  },
  {
   "cell_type": "code",
   "execution_count": 41,
   "metadata": {},
   "outputs": [
    {
     "data": {
      "text/plain": [
       "['']"
      ]
     },
     "execution_count": 41,
     "metadata": {},
     "output_type": "execute_result"
    }
   ],
   "source": [
    "get_replace(\"{totalrate:0.2e}\")"
   ]
  },
  {
   "cell_type": "code",
   "execution_count": 40,
   "metadata": {},
   "outputs": [
    {
     "ename": "KeyError",
     "evalue": "'file'",
     "output_type": "error",
     "traceback": [
      "\u001b[0;31m---------------------------------------------------------------------------\u001b[0m",
      "\u001b[0;31mKeyError\u001b[0m                                  Traceback (most recent call last)",
      "Cell \u001b[0;32mIn[40], line 18\u001b[0m\n\u001b[1;32m     13\u001b[0m         \u001b[38;5;28mprint\u001b[39m(key,\u001b[38;5;124m'\u001b[39m\u001b[38;5;124m:\u001b[39m\u001b[38;5;124m'\u001b[39m,[ check_replace(key, v, \u001b[38;5;241m*\u001b[39m\u001b[38;5;241m*\u001b[39mnamespace) \u001b[38;5;28;01mfor\u001b[39;00m v \u001b[38;5;129;01min\u001b[39;00m value])\n\u001b[1;32m     17\u001b[0m \u001b[38;5;28;01mfor\u001b[39;00m key, value \u001b[38;5;129;01min\u001b[39;00m \u001b[38;5;28mvars\u001b[39m(cfg)\u001b[38;5;241m.\u001b[39mitems():\n\u001b[0;32m---> 18\u001b[0m     \u001b[43mcheck_replace\u001b[49m\u001b[43m(\u001b[49m\u001b[43mkey\u001b[49m\u001b[43m,\u001b[49m\u001b[43m \u001b[49m\u001b[43mvalue\u001b[49m\u001b[43m,\u001b[49m\u001b[43m \u001b[49m\u001b[38;5;241;43m*\u001b[39;49m\u001b[38;5;241;43m*\u001b[39;49m\u001b[38;5;28;43mvars\u001b[39;49m\u001b[43m(\u001b[49m\u001b[43mcfg\u001b[49m\u001b[43m)\u001b[49m\u001b[43m)\u001b[49m\n",
      "Cell \u001b[0;32mIn[40], line 6\u001b[0m, in \u001b[0;36mcheck_replace\u001b[0;34m(key, value, **namespace)\u001b[0m\n\u001b[1;32m      4\u001b[0m \u001b[38;5;28;01mif\u001b[39;00m \u001b[38;5;28misinstance\u001b[39m(value, \u001b[38;5;28mstr\u001b[39m):\n\u001b[1;32m      5\u001b[0m     fmt \u001b[38;5;241m=\u001b[39m { var:namespace\u001b[38;5;241m.\u001b[39mget(var,\u001b[38;5;124m'\u001b[39m\u001b[38;5;124m{\u001b[39m\u001b[38;5;124m'\u001b[39m\u001b[38;5;241m+\u001b[39m\u001b[38;5;124mf\u001b[39m\u001b[38;5;124m'\u001b[39m\u001b[38;5;132;01m{\u001b[39;00mvar\u001b[38;5;132;01m}\u001b[39;00m\u001b[38;5;124m'\u001b[39m\u001b[38;5;241m+\u001b[39m\u001b[38;5;124m'\u001b[39m\u001b[38;5;124m}\u001b[39m\u001b[38;5;124m'\u001b[39m) \u001b[38;5;28;01mfor\u001b[39;00m var \u001b[38;5;129;01min\u001b[39;00m get_replace(value) }\n\u001b[0;32m----> 6\u001b[0m     \u001b[38;5;28mprint\u001b[39m(key,\u001b[38;5;124m'\u001b[39m\u001b[38;5;124m:\u001b[39m\u001b[38;5;124m'\u001b[39m, \u001b[43mvalue\u001b[49m\u001b[38;5;241;43m.\u001b[39;49m\u001b[43mformat\u001b[49m\u001b[43m(\u001b[49m\u001b[38;5;241;43m*\u001b[39;49m\u001b[38;5;241;43m*\u001b[39;49m\u001b[43mfmt\u001b[49m\u001b[43m)\u001b[49m)\n\u001b[1;32m      7\u001b[0m \u001b[38;5;28;01mif\u001b[39;00m \u001b[38;5;28misinstance\u001b[39m(value, \u001b[38;5;28mdict\u001b[39m):\n\u001b[1;32m      8\u001b[0m     new_namepspace \u001b[38;5;241m=\u001b[39m \u001b[38;5;28mdict\u001b[39m(namespace, \u001b[38;5;241m*\u001b[39m\u001b[38;5;241m*\u001b[39mvalue)\n",
      "\u001b[0;31mKeyError\u001b[0m: 'file'"
     ]
    }
   ],
   "source": [
    "def get_replace(string): return re.findall(r'{(.*?)}', string)\n",
    "\n",
    "def check_replace(key, value, **namespace):\n",
    "    if isinstance(value, str):\n",
    "        fmt = { var:namespace.get(var,'{'+f'{var}'+'}') for var in get_replace(value) }\n",
    "        print(key,':', value.format(**fmt))\n",
    "    if isinstance(value, dict):\n",
    "        new_namepspace = dict(namespace, **value)\n",
    "        print(key,':')\n",
    "        for k, v in value.items():\n",
    "            check_replace(k, v, **new_namepspace)\n",
    "    if isinstance(value, list):\n",
    "        print(key,':',[ check_replace(key, v, **namespace) for v in value])\n",
    "\n",
    "\n",
    "\n",
    "for key, value in vars(cfg).items():\n",
    "    check_replace(key, value, **vars(cfg))"
   ]
  },
  {
   "cell_type": "code",
   "execution_count": null,
   "metadata": {},
   "outputs": [],
   "source": []
  },
  {
   "cell_type": "code",
   "execution_count": null,
   "metadata": {},
   "outputs": [],
   "source": []
  }
 ],
 "metadata": {
  "kernelspec": {
   "display_name": "Python 3.9.15 ('phase2')",
   "language": "python",
   "name": "python3"
  },
  "language_info": {
   "codemirror_mode": {
    "name": "ipython",
    "version": 3
   },
   "file_extension": ".py",
   "mimetype": "text/x-python",
   "name": "python",
   "nbconvert_exporter": "python",
   "pygments_lexer": "ipython3",
   "version": "3.9.15"
  },
  "orig_nbformat": 4,
  "vscode": {
   "interpreter": {
    "hash": "6bfae6ae298da9dc1945fbaa6d759e9c74ffc49eb2783824a85a7fc554594016"
   }
  }
 },
 "nbformat": 4,
 "nbformat_minor": 2
}
