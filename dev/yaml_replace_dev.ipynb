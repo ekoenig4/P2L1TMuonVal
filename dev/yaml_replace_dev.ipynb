{
 "cells": [
  {
   "cell_type": "code",
   "execution_count": 1,
   "metadata": {},
   "outputs": [],
   "source": [
    "import sys, git\n",
    "sys.path.append( git.Repo('.', search_parent_directories=True).working_tree_dir )\n",
    "from python.yaml_cfg import Config"
   ]
  },
  {
   "cell_type": "code",
   "execution_count": 2,
   "metadata": {},
   "outputs": [],
   "source": [
    "doc = \"\"\"\n",
    "label: \"simple\"\n",
    "\n",
    "file: \"DoubleMu_GMTIso_ID\"\n",
    "filepath: \"/eos/uscms/store/user/ekoenig/trigger/\"\n",
    "outfile: \"effi_{file}_{label}_{tag}.root\"\n",
    "\n",
    "branch: \"gmtTkMuon\"\n",
    "eta_range: [-2.4, 2.4]\n",
    "pt_range: [2.0, 100.0]\n",
    "\n",
    "total: -1\n",
    "\n",
    "matched_delta_r: 0.1\n",
    "\n",
    "gen_variables:\n",
    "    pt: \"partPt\"\n",
    "    eta: \"partEta\"\n",
    "    phi: \"partPhi\"\n",
    "\n",
    "\n",
    "gen_selection:\n",
    "    stat: \"partStat==1\"\n",
    "    etacut: \"(partEta > {eta_range[0]}) & (partEta < {eta_range[1]})\"\n",
    "\n",
    "l1_variables:\n",
    "    pt: \"{branch}Pt\"\n",
    "    eta: \"{branch}Eta\"\n",
    "    phi: \"{branch}Phi\"\n",
    "    nstubs: \"{branch}NStubs\"\n",
    "\"\"\""
   ]
  },
  {
   "cell_type": "code",
   "execution_count": 3,
   "metadata": {},
   "outputs": [],
   "source": [
    "cfg = Config.from_str(doc)"
   ]
  },
  {
   "cell_type": "code",
   "execution_count": 35,
   "metadata": {},
   "outputs": [
    {
     "ename": "KeyError",
     "evalue": "'eta_range'",
     "output_type": "error",
     "traceback": [
      "\u001b[0;31m---------------------------------------------------------------------------\u001b[0m",
      "\u001b[0;31mKeyError\u001b[0m                                  Traceback (most recent call last)",
      "Cell \u001b[0;32mIn[35], line 25\u001b[0m\n\u001b[1;32m     21\u001b[0m         variable \u001b[38;5;241m=\u001b[39m [ fill_replace(value) \u001b[38;5;28;01mfor\u001b[39;00m value \u001b[38;5;129;01min\u001b[39;00m variable]\n\u001b[1;32m     23\u001b[0m     \u001b[38;5;28;01mreturn\u001b[39;00m variable\n\u001b[0;32m---> 25\u001b[0m \u001b[43mfill_replace\u001b[49m\u001b[43m(\u001b[49m\u001b[38;5;28;43mvars\u001b[39;49m\u001b[43m(\u001b[49m\u001b[43mcfg\u001b[49m\u001b[43m)\u001b[49m\u001b[43m,\u001b[49m\u001b[43m \u001b[49m\u001b[38;5;241;43m*\u001b[39;49m\u001b[38;5;241;43m*\u001b[39;49m\u001b[38;5;28;43mvars\u001b[39;49m\u001b[43m(\u001b[49m\u001b[43mcfg\u001b[49m\u001b[43m)\u001b[49m\u001b[43m)\u001b[49m\n",
      "Cell \u001b[0;32mIn[35], line 18\u001b[0m, in \u001b[0;36mfill_replace\u001b[0;34m(variable, **namespace)\u001b[0m\n\u001b[1;32m     16\u001b[0m \u001b[38;5;28;01melif\u001b[39;00m \u001b[38;5;28misinstance\u001b[39m(variable, \u001b[38;5;28mdict\u001b[39m):\n\u001b[1;32m     17\u001b[0m     new_namespace \u001b[38;5;241m=\u001b[39m \u001b[38;5;28mdict\u001b[39m(namespace, \u001b[38;5;241m*\u001b[39m\u001b[38;5;241m*\u001b[39mvariable)\n\u001b[0;32m---> 18\u001b[0m     variable \u001b[38;5;241m=\u001b[39m { key: fill_replace(value, \u001b[38;5;241m*\u001b[39m\u001b[38;5;241m*\u001b[39mnew_namespace) \u001b[38;5;28;01mfor\u001b[39;00m key, value \u001b[38;5;129;01min\u001b[39;00m variable\u001b[38;5;241m.\u001b[39mitems() }\n\u001b[1;32m     20\u001b[0m \u001b[38;5;28;01melif\u001b[39;00m \u001b[38;5;28misinstance\u001b[39m(variable, \u001b[38;5;28mlist\u001b[39m):\n\u001b[1;32m     21\u001b[0m     variable \u001b[38;5;241m=\u001b[39m [ fill_replace(value) \u001b[38;5;28;01mfor\u001b[39;00m value \u001b[38;5;129;01min\u001b[39;00m variable]\n",
      "Cell \u001b[0;32mIn[35], line 18\u001b[0m, in \u001b[0;36m<dictcomp>\u001b[0;34m(.0)\u001b[0m\n\u001b[1;32m     16\u001b[0m \u001b[38;5;28;01melif\u001b[39;00m \u001b[38;5;28misinstance\u001b[39m(variable, \u001b[38;5;28mdict\u001b[39m):\n\u001b[1;32m     17\u001b[0m     new_namespace \u001b[38;5;241m=\u001b[39m \u001b[38;5;28mdict\u001b[39m(namespace, \u001b[38;5;241m*\u001b[39m\u001b[38;5;241m*\u001b[39mvariable)\n\u001b[0;32m---> 18\u001b[0m     variable \u001b[38;5;241m=\u001b[39m { key: \u001b[43mfill_replace\u001b[49m\u001b[43m(\u001b[49m\u001b[43mvalue\u001b[49m\u001b[43m,\u001b[49m\u001b[43m \u001b[49m\u001b[38;5;241;43m*\u001b[39;49m\u001b[38;5;241;43m*\u001b[39;49m\u001b[43mnew_namespace\u001b[49m\u001b[43m)\u001b[49m \u001b[38;5;28;01mfor\u001b[39;00m key, value \u001b[38;5;129;01min\u001b[39;00m variable\u001b[38;5;241m.\u001b[39mitems() }\n\u001b[1;32m     20\u001b[0m \u001b[38;5;28;01melif\u001b[39;00m \u001b[38;5;28misinstance\u001b[39m(variable, \u001b[38;5;28mlist\u001b[39m):\n\u001b[1;32m     21\u001b[0m     variable \u001b[38;5;241m=\u001b[39m [ fill_replace(value) \u001b[38;5;28;01mfor\u001b[39;00m value \u001b[38;5;129;01min\u001b[39;00m variable]\n",
      "Cell \u001b[0;32mIn[35], line 18\u001b[0m, in \u001b[0;36mfill_replace\u001b[0;34m(variable, **namespace)\u001b[0m\n\u001b[1;32m     16\u001b[0m \u001b[38;5;28;01melif\u001b[39;00m \u001b[38;5;28misinstance\u001b[39m(variable, \u001b[38;5;28mdict\u001b[39m):\n\u001b[1;32m     17\u001b[0m     new_namespace \u001b[38;5;241m=\u001b[39m \u001b[38;5;28mdict\u001b[39m(namespace, \u001b[38;5;241m*\u001b[39m\u001b[38;5;241m*\u001b[39mvariable)\n\u001b[0;32m---> 18\u001b[0m     variable \u001b[38;5;241m=\u001b[39m { key: fill_replace(value, \u001b[38;5;241m*\u001b[39m\u001b[38;5;241m*\u001b[39mnew_namespace) \u001b[38;5;28;01mfor\u001b[39;00m key, value \u001b[38;5;129;01min\u001b[39;00m variable\u001b[38;5;241m.\u001b[39mitems() }\n\u001b[1;32m     20\u001b[0m \u001b[38;5;28;01melif\u001b[39;00m \u001b[38;5;28misinstance\u001b[39m(variable, \u001b[38;5;28mlist\u001b[39m):\n\u001b[1;32m     21\u001b[0m     variable \u001b[38;5;241m=\u001b[39m [ fill_replace(value) \u001b[38;5;28;01mfor\u001b[39;00m value \u001b[38;5;129;01min\u001b[39;00m variable]\n",
      "Cell \u001b[0;32mIn[35], line 18\u001b[0m, in \u001b[0;36m<dictcomp>\u001b[0;34m(.0)\u001b[0m\n\u001b[1;32m     16\u001b[0m \u001b[38;5;28;01melif\u001b[39;00m \u001b[38;5;28misinstance\u001b[39m(variable, \u001b[38;5;28mdict\u001b[39m):\n\u001b[1;32m     17\u001b[0m     new_namespace \u001b[38;5;241m=\u001b[39m \u001b[38;5;28mdict\u001b[39m(namespace, \u001b[38;5;241m*\u001b[39m\u001b[38;5;241m*\u001b[39mvariable)\n\u001b[0;32m---> 18\u001b[0m     variable \u001b[38;5;241m=\u001b[39m { key: \u001b[43mfill_replace\u001b[49m\u001b[43m(\u001b[49m\u001b[43mvalue\u001b[49m\u001b[43m,\u001b[49m\u001b[43m \u001b[49m\u001b[38;5;241;43m*\u001b[39;49m\u001b[38;5;241;43m*\u001b[39;49m\u001b[43mnew_namespace\u001b[49m\u001b[43m)\u001b[49m \u001b[38;5;28;01mfor\u001b[39;00m key, value \u001b[38;5;129;01min\u001b[39;00m variable\u001b[38;5;241m.\u001b[39mitems() }\n\u001b[1;32m     20\u001b[0m \u001b[38;5;28;01melif\u001b[39;00m \u001b[38;5;28misinstance\u001b[39m(variable, \u001b[38;5;28mlist\u001b[39m):\n\u001b[1;32m     21\u001b[0m     variable \u001b[38;5;241m=\u001b[39m [ fill_replace(value) \u001b[38;5;28;01mfor\u001b[39;00m value \u001b[38;5;129;01min\u001b[39;00m variable]\n",
      "Cell \u001b[0;32mIn[35], line 14\u001b[0m, in \u001b[0;36mfill_replace\u001b[0;34m(variable, **namespace)\u001b[0m\n\u001b[1;32m     12\u001b[0m \u001b[38;5;28;01mdef\u001b[39;00m \u001b[38;5;21mfill_replace\u001b[39m(variable, \u001b[38;5;241m*\u001b[39m\u001b[38;5;241m*\u001b[39mnamespace):\n\u001b[1;32m     13\u001b[0m     \u001b[38;5;28;01mif\u001b[39;00m \u001b[38;5;28misinstance\u001b[39m(variable, \u001b[38;5;28mstr\u001b[39m):\n\u001b[0;32m---> 14\u001b[0m         variable \u001b[38;5;241m=\u001b[39m \u001b[43mreplace_available\u001b[49m\u001b[43m(\u001b[49m\u001b[43mvariable\u001b[49m\u001b[43m,\u001b[49m\u001b[43m \u001b[49m\u001b[38;5;241;43m*\u001b[39;49m\u001b[38;5;241;43m*\u001b[39;49m\u001b[43mnamespace\u001b[49m\u001b[43m)\u001b[49m\n\u001b[1;32m     16\u001b[0m     \u001b[38;5;28;01melif\u001b[39;00m \u001b[38;5;28misinstance\u001b[39m(variable, \u001b[38;5;28mdict\u001b[39m):\n\u001b[1;32m     17\u001b[0m         new_namespace \u001b[38;5;241m=\u001b[39m \u001b[38;5;28mdict\u001b[39m(namespace, \u001b[38;5;241m*\u001b[39m\u001b[38;5;241m*\u001b[39mvariable)\n",
      "Cell \u001b[0;32mIn[35], line 10\u001b[0m, in \u001b[0;36mreplace_available\u001b[0;34m(string, **namespace)\u001b[0m\n\u001b[1;32m      5\u001b[0m \u001b[38;5;28;01mdef\u001b[39;00m \u001b[38;5;21mreplace_available\u001b[39m(string : \u001b[38;5;28mstr\u001b[39m, \u001b[38;5;241m*\u001b[39m\u001b[38;5;241m*\u001b[39mnamespace):\n\u001b[1;32m      6\u001b[0m     fmt_replace \u001b[38;5;241m=\u001b[39m {\n\u001b[1;32m      7\u001b[0m         key: namespace\u001b[38;5;241m.\u001b[39mget(key, \u001b[38;5;124m'\u001b[39m\u001b[38;5;124m{\u001b[39m\u001b[38;5;124m'\u001b[39m\u001b[38;5;241m+\u001b[39mkey\u001b[38;5;241m+\u001b[39m\u001b[38;5;124m'\u001b[39m\u001b[38;5;124m}\u001b[39m\u001b[38;5;124m'\u001b[39m)\n\u001b[1;32m      8\u001b[0m         \u001b[38;5;28;01mfor\u001b[39;00m key \u001b[38;5;129;01min\u001b[39;00m get_replace(string)\n\u001b[1;32m      9\u001b[0m     }      \n\u001b[0;32m---> 10\u001b[0m     \u001b[38;5;28;01mreturn\u001b[39;00m \u001b[43mstring\u001b[49m\u001b[38;5;241;43m.\u001b[39;49m\u001b[43mformat\u001b[49m\u001b[43m(\u001b[49m\u001b[38;5;241;43m*\u001b[39;49m\u001b[38;5;241;43m*\u001b[39;49m\u001b[43mfmt_replace\u001b[49m\u001b[43m)\u001b[49m\n",
      "\u001b[0;31mKeyError\u001b[0m: 'eta_range'"
     ]
    }
   ],
   "source": [
    "from string import Formatter\n",
    "\n",
    "def get_replace(string): \n",
    "    return [fn for _, fn, _, _ in formatter.parse(string) if fn is not None]\n",
    "def replace_available(string : str, **namespace):\n",
    "    fmt_replace = {\n",
    "        key: namespace.get(key, '{'+key+'}')\n",
    "        for key in get_replace(string)\n",
    "    }      \n",
    "    return string.format(**fmt_replace)\n",
    "\n",
    "def fill_replace(variable, **namespace):\n",
    "    if isinstance(variable, str):\n",
    "        variable = replace_available(variable, **namespace)\n",
    "\n",
    "    elif isinstance(variable, dict):\n",
    "        new_namespace = dict(namespace, **variable)\n",
    "        variable = { key: fill_replace(value, **new_namespace) for key, value in variable.items() }\n",
    "\n",
    "    elif isinstance(variable, list):\n",
    "        variable = [ fill_replace(value) for value in variable]\n",
    "        \n",
    "    return variable\n",
    "\n",
    "fill_replace(vars(cfg), **vars(cfg))"
   ]
  },
  {
   "cell_type": "code",
   "execution_count": null,
   "metadata": {},
   "outputs": [],
   "source": []
  },
  {
   "cell_type": "code",
   "execution_count": 112,
   "metadata": {},
   "outputs": [],
   "source": [
    "from string import Formatter\n",
    " \n",
    "test_str = \"testing formating {notgiven} with a {given[0]} and {alsonotgiven}\""
   ]
  },
  {
   "cell_type": "code",
   "execution_count": 113,
   "metadata": {},
   "outputs": [
    {
     "data": {
      "text/plain": [
       "['notgiven', 'given[0]', 'alsonotgiven']"
      ]
     },
     "execution_count": 113,
     "metadata": {},
     "output_type": "execute_result"
    }
   ],
   "source": [
    "fields = [fn.replace(\" \",\"\") for _, fn, _, _ in Formatter().parse(test_str) if fn is not None]\n",
    "fields"
   ]
  },
  {
   "cell_type": "code",
   "execution_count": 114,
   "metadata": {},
   "outputs": [],
   "source": [
    "namespace = dict( given = ['(first element)'], another=\"wasnt needed\" )"
   ]
  },
  {
   "cell_type": "code",
   "execution_count": 115,
   "metadata": {},
   "outputs": [],
   "source": [
    "new_namespace = dict(namespace, notgiven='{notgiven}', alsonotgiven=r'{alsonotgiven[1]}')"
   ]
  },
  {
   "cell_type": "code",
   "execution_count": 116,
   "metadata": {},
   "outputs": [],
   "source": [
    "class FormatDict(dict):\n",
    "    def __missing__(self, key):\n",
    "        return \"{\" + key + \"}\""
   ]
  },
  {
   "cell_type": "code",
   "execution_count": 117,
   "metadata": {},
   "outputs": [
    {
     "data": {
      "text/plain": [
       "'testing formating {notgiven} with a (first element) and {alsonotgiven}'"
      ]
     },
     "execution_count": 117,
     "metadata": {},
     "output_type": "execute_result"
    }
   ],
   "source": [
    "Formatter().vformat(test_str, (), FormatDict(**namespace))"
   ]
  },
  {
   "cell_type": "code",
   "execution_count": 77,
   "metadata": {},
   "outputs": [
    {
     "ename": "KeyError",
     "evalue": "'notgiven'",
     "output_type": "error",
     "traceback": [
      "\u001b[0;31m---------------------------------------------------------------------------\u001b[0m",
      "\u001b[0;31mKeyError\u001b[0m                                  Traceback (most recent call last)",
      "Cell \u001b[0;32mIn[77], line 1\u001b[0m\n\u001b[0;32m----> 1\u001b[0m \u001b[43mtest_str\u001b[49m\u001b[38;5;241;43m.\u001b[39;49m\u001b[43mformat\u001b[49m\u001b[43m(\u001b[49m\u001b[38;5;241;43m*\u001b[39;49m\u001b[38;5;241;43m*\u001b[39;49m\u001b[43mnamespace\u001b[49m\u001b[43m)\u001b[49m\n",
      "\u001b[0;31mKeyError\u001b[0m: 'notgiven'"
     ]
    }
   ],
   "source": [
    "test_str.format(**namespace)"
   ]
  },
  {
   "cell_type": "code",
   "execution_count": 78,
   "metadata": {},
   "outputs": [
    {
     "data": {
      "text/plain": [
       "'testing formating {notgiven} with a (first element) and a'"
      ]
     },
     "execution_count": 78,
     "metadata": {},
     "output_type": "execute_result"
    }
   ],
   "source": [
    "test_str.format(**new_namespace)"
   ]
  },
  {
   "cell_type": "code",
   "execution_count": 45,
   "metadata": {},
   "outputs": [
    {
     "ename": "TypeError",
     "evalue": "get_field() missing 2 required positional arguments: 'args' and 'kwargs'",
     "output_type": "error",
     "traceback": [
      "\u001b[0;31m---------------------------------------------------------------------------\u001b[0m",
      "\u001b[0;31mTypeError\u001b[0m                                 Traceback (most recent call last)",
      "Cell \u001b[0;32mIn[45], line 1\u001b[0m\n\u001b[0;32m----> 1\u001b[0m \u001b[43mformatter\u001b[49m\u001b[38;5;241;43m.\u001b[39;49m\u001b[43mget_field\u001b[49m\u001b[43m(\u001b[49m\u001b[38;5;124;43m'\u001b[39;49m\u001b[38;5;124;43mnotgiven[0]\u001b[39;49m\u001b[38;5;124;43m'\u001b[39;49m\u001b[43m)\u001b[49m\n",
      "\u001b[0;31mTypeError\u001b[0m: get_field() missing 2 required positional arguments: 'args' and 'kwargs'"
     ]
    }
   ],
   "source": [
    "formatter.get_field('notgiven[0]')"
   ]
  }
 ],
 "metadata": {
  "kernelspec": {
   "display_name": "Python 3.9.15 ('phase2')",
   "language": "python",
   "name": "python3"
  },
  "language_info": {
   "codemirror_mode": {
    "name": "ipython",
    "version": 3
   },
   "file_extension": ".py",
   "mimetype": "text/x-python",
   "name": "python",
   "nbconvert_exporter": "python",
   "pygments_lexer": "ipython3",
   "version": "3.9.15"
  },
  "orig_nbformat": 4,
  "vscode": {
   "interpreter": {
    "hash": "6bfae6ae298da9dc1945fbaa6d759e9c74ffc49eb2783824a85a7fc554594016"
   }
  }
 },
 "nbformat": 4,
 "nbformat_minor": 2
}
